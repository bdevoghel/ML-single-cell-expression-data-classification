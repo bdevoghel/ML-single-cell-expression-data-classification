{
 "cells": [
  {
   "cell_type": "markdown",
   "metadata": {},
   "source": [
    "# Single-cell expression data classification\n",
    "\n",
    "More info about this project in the [README](README.md) file"
   ]
  },
  {
   "cell_type": "code",
   "execution_count": 1,
   "metadata": {},
   "outputs": [],
   "source": [
    "import pandas as pd\n",
    "import numpy as np\n",
    "from scipy import sparse\n",
    "\n",
    "from seaborn import heatmap\n",
    "import matplotlib.pyplot as plt\n",
    "\n",
    "from sklearn.neural_network import MLPClassifier\n",
    "from sklearn.tree import DecisionTreeClassifier\n",
    "from sklearn.ensemble import RandomForestClassifier, AdaBoostClassifier\n",
    "from sklearn.svm import SVC\n",
    "from sklearn.model_selection import StratifiedShuffleSplit, GridSearchCV\n",
    "from sklearn.feature_selection import VarianceThreshold\n",
    "from sklearn import preprocessing, metrics\n",
    "\n",
    "from dl85 import DL85Classifier"
   ]
  },
  {
   "cell_type": "code",
   "execution_count": 2,
   "metadata": {},
   "outputs": [],
   "source": [
    "# File names\n",
    "\n",
    "train_fn = \"dataset/single_cell_expression-train.csv\"\n",
    "test_fn = \"dataset/single_cell_expression-test.csv\"\n",
    "test_labels_fn = \"dataset/single_cell_expression-test_labels.csv\"\n",
    "\n",
    "output_fn = None  # no output"
   ]
  },
  {
   "cell_type": "markdown",
   "metadata": {},
   "source": [
    "> The \"test labels\" file is of course not given in a ML competition. It was added afterwards in order to be able to evaluate the performance and its perofrmance estimation."
   ]
  },
  {
   "cell_type": "code",
   "execution_count": 3,
   "metadata": {},
   "outputs": [],
   "source": [
    "target = \"label\"\n",
    "\n",
    "RANDOM_STATE = 2262\n",
    "np.random.seed(RANDOM_STATE)"
   ]
  },
  {
   "cell_type": "code",
   "execution_count": 4,
   "metadata": {},
   "outputs": [],
   "source": [
    "# Preprocessing parameters\n",
    "\n",
    "correlation_threshold = 0.9\n",
    "variance_threshold = 0.1"
   ]
  },
  {
   "cell_type": "markdown",
   "metadata": {},
   "source": [
    "## Data frames creation and dataset insight information examination"
   ]
  },
  {
   "cell_type": "code",
   "execution_count": 5,
   "metadata": {},
   "outputs": [
    {
     "name": "stdout",
     "output_type": "stream",
     "text": [
      "CPU times: user 18.7 s, sys: 391 ms, total: 19.1 s\n",
      "Wall time: 19.1 s\n"
     ]
    }
   ],
   "source": [
    "%%time\n",
    "\n",
    "train_df = pd.read_csv(train_fn, index_col=0, na_values=[\"NA\"])\n",
    "test_df = pd.read_csv(test_fn, index_col=0, na_values=[\"NA\"])\n",
    "test_labels_df = pd.read_csv(test_labels_fn, index_col=0)"
   ]
  },
  {
   "cell_type": "code",
   "execution_count": 6,
   "metadata": {},
   "outputs": [
    {
     "name": "stdout",
     "output_type": "stream",
     "text": [
      "<class 'pandas.core.frame.DataFrame'>\n",
      "Index: 1000 entries, C-1 to C-1000\n",
      "Columns: 23385 entries, A1BG to label\n",
      "dtypes: bool(8), float64(23371), int64(2), object(4)\n",
      "memory usage: 178.4+ MB\n"
     ]
    }
   ],
   "source": [
    "train_df.info()"
   ]
  },
  {
   "cell_type": "markdown",
   "metadata": {},
   "source": [
    "> We can already see that the dataset \n",
    "* is high-dimensional (23384 features, 1 label)\n",
    "* contains both numerical (floats and ints) and categorical (bools and objects) features"
   ]
  },
  {
   "cell_type": "code",
   "execution_count": 7,
   "metadata": {
    "scrolled": false
   },
   "outputs": [
    {
     "data": {
      "text/html": [
       "<div>\n",
       "<style scoped>\n",
       "    .dataframe tbody tr th:only-of-type {\n",
       "        vertical-align: middle;\n",
       "    }\n",
       "\n",
       "    .dataframe tbody tr th {\n",
       "        vertical-align: top;\n",
       "    }\n",
       "\n",
       "    .dataframe thead th {\n",
       "        text-align: right;\n",
       "    }\n",
       "</style>\n",
       "<table border=\"1\" class=\"dataframe\">\n",
       "  <thead>\n",
       "    <tr style=\"text-align: right;\">\n",
       "      <th></th>\n",
       "      <th>A1BG</th>\n",
       "      <th>NAT2</th>\n",
       "      <th>ADA</th>\n",
       "      <th>CDH2</th>\n",
       "      <th>AKT3</th>\n",
       "      <th>GAGE12F</th>\n",
       "      <th>ZBTB11-AS1</th>\n",
       "      <th>MED6</th>\n",
       "      <th>NR2E3</th>\n",
       "      <th>NAALAD2</th>\n",
       "      <th>SNORD116-1</th>\n",
       "      <th>SNORD116-2</th>\n",
       "      <th>SNORD116-3</th>\n",
       "      <th>SNORD116-4</th>\n",
       "      <th>SNORD116-5</th>\n",
       "      <th>SNORD116-8</th>\n",
       "      <th>SNORD116-10</th>\n",
       "      <th>SNORD116-11</th>\n",
       "      <th>SNORD116-12</th>\n",
       "      <th>SNORD116-13</th>\n",
       "      <th>...</th>\n",
       "      <th>PTBP3</th>\n",
       "      <th>KCNE2</th>\n",
       "      <th>DGCR2</th>\n",
       "      <th>CASP8AP2</th>\n",
       "      <th>SCO2</th>\n",
       "      <th>patient</th>\n",
       "      <th>tissue</th>\n",
       "      <th>size</th>\n",
       "      <th>level.mito</th>\n",
       "      <th>level.ribo</th>\n",
       "      <th>low.yield</th>\n",
       "      <th>reads</th>\n",
       "      <th>marker.A</th>\n",
       "      <th>marker.B</th>\n",
       "      <th>marker.C</th>\n",
       "      <th>marker.D</th>\n",
       "      <th>marker.E</th>\n",
       "      <th>marker.F</th>\n",
       "      <th>marker.G</th>\n",
       "      <th>label</th>\n",
       "    </tr>\n",
       "  </thead>\n",
       "  <tbody>\n",
       "    <tr>\n",
       "      <th>C-1</th>\n",
       "      <td>0.0</td>\n",
       "      <td>0.0</td>\n",
       "      <td>1.0</td>\n",
       "      <td>0.0</td>\n",
       "      <td>0.0</td>\n",
       "      <td>0.0</td>\n",
       "      <td>0.0</td>\n",
       "      <td>1.0</td>\n",
       "      <td>0.0</td>\n",
       "      <td>0.0</td>\n",
       "      <td>0.0</td>\n",
       "      <td>0.0</td>\n",
       "      <td>0.0</td>\n",
       "      <td>0.0</td>\n",
       "      <td>0.0</td>\n",
       "      <td>0.0</td>\n",
       "      <td>0.0</td>\n",
       "      <td>0.0</td>\n",
       "      <td>0.0</td>\n",
       "      <td>0.0</td>\n",
       "      <td>...</td>\n",
       "      <td>0.0</td>\n",
       "      <td>0.0</td>\n",
       "      <td>1.0</td>\n",
       "      <td>0.0</td>\n",
       "      <td>0.0</td>\n",
       "      <td>Alpha</td>\n",
       "      <td>Periferal blood</td>\n",
       "      <td>1.916922</td>\n",
       "      <td>High</td>\n",
       "      <td>High</td>\n",
       "      <td>False</td>\n",
       "      <td>1483135</td>\n",
       "      <td>True</td>\n",
       "      <td>False</td>\n",
       "      <td>True</td>\n",
       "      <td>True</td>\n",
       "      <td>True</td>\n",
       "      <td>False</td>\n",
       "      <td>True</td>\n",
       "      <td>-1</td>\n",
       "    </tr>\n",
       "    <tr>\n",
       "      <th>C-2</th>\n",
       "      <td>0.0</td>\n",
       "      <td>0.0</td>\n",
       "      <td>0.0</td>\n",
       "      <td>0.0</td>\n",
       "      <td>0.0</td>\n",
       "      <td>0.0</td>\n",
       "      <td>64.0</td>\n",
       "      <td>0.0</td>\n",
       "      <td>0.0</td>\n",
       "      <td>0.0</td>\n",
       "      <td>0.0</td>\n",
       "      <td>0.0</td>\n",
       "      <td>0.0</td>\n",
       "      <td>0.0</td>\n",
       "      <td>0.0</td>\n",
       "      <td>0.0</td>\n",
       "      <td>0.0</td>\n",
       "      <td>0.0</td>\n",
       "      <td>0.0</td>\n",
       "      <td>0.0</td>\n",
       "      <td>...</td>\n",
       "      <td>91.0</td>\n",
       "      <td>0.0</td>\n",
       "      <td>366.0</td>\n",
       "      <td>0.0</td>\n",
       "      <td>0.0</td>\n",
       "      <td>Beta</td>\n",
       "      <td>Periferal blood</td>\n",
       "      <td>1.866695</td>\n",
       "      <td>Normal</td>\n",
       "      <td>Normal</td>\n",
       "      <td>False</td>\n",
       "      <td>1446762</td>\n",
       "      <td>True</td>\n",
       "      <td>False</td>\n",
       "      <td>True</td>\n",
       "      <td>False</td>\n",
       "      <td>True</td>\n",
       "      <td>False</td>\n",
       "      <td>False</td>\n",
       "      <td>-1</td>\n",
       "    </tr>\n",
       "    <tr>\n",
       "      <th>C-3</th>\n",
       "      <td>0.0</td>\n",
       "      <td>0.0</td>\n",
       "      <td>134.0</td>\n",
       "      <td>0.0</td>\n",
       "      <td>0.0</td>\n",
       "      <td>0.0</td>\n",
       "      <td>0.0</td>\n",
       "      <td>0.0</td>\n",
       "      <td>0.0</td>\n",
       "      <td>0.0</td>\n",
       "      <td>0.0</td>\n",
       "      <td>NaN</td>\n",
       "      <td>0.0</td>\n",
       "      <td>0.0</td>\n",
       "      <td>0.0</td>\n",
       "      <td>0.0</td>\n",
       "      <td>0.0</td>\n",
       "      <td>0.0</td>\n",
       "      <td>0.0</td>\n",
       "      <td>0.0</td>\n",
       "      <td>...</td>\n",
       "      <td>111.0</td>\n",
       "      <td>0.0</td>\n",
       "      <td>0.0</td>\n",
       "      <td>0.0</td>\n",
       "      <td>0.0</td>\n",
       "      <td>Beta</td>\n",
       "      <td>Tumor-infiltrating</td>\n",
       "      <td>0.915932</td>\n",
       "      <td>Normal</td>\n",
       "      <td>Normal</td>\n",
       "      <td>False</td>\n",
       "      <td>1244242</td>\n",
       "      <td>True</td>\n",
       "      <td>False</td>\n",
       "      <td>True</td>\n",
       "      <td>True</td>\n",
       "      <td>True</td>\n",
       "      <td>False</td>\n",
       "      <td>True</td>\n",
       "      <td>-1</td>\n",
       "    </tr>\n",
       "    <tr>\n",
       "      <th>C-4</th>\n",
       "      <td>0.0</td>\n",
       "      <td>0.0</td>\n",
       "      <td>0.0</td>\n",
       "      <td>0.0</td>\n",
       "      <td>0.0</td>\n",
       "      <td>0.0</td>\n",
       "      <td>0.0</td>\n",
       "      <td>NaN</td>\n",
       "      <td>0.0</td>\n",
       "      <td>0.0</td>\n",
       "      <td>0.0</td>\n",
       "      <td>0.0</td>\n",
       "      <td>0.0</td>\n",
       "      <td>0.0</td>\n",
       "      <td>0.0</td>\n",
       "      <td>0.0</td>\n",
       "      <td>NaN</td>\n",
       "      <td>0.0</td>\n",
       "      <td>0.0</td>\n",
       "      <td>0.0</td>\n",
       "      <td>...</td>\n",
       "      <td>469.0</td>\n",
       "      <td>NaN</td>\n",
       "      <td>0.0</td>\n",
       "      <td>0.0</td>\n",
       "      <td>0.0</td>\n",
       "      <td>Gamma</td>\n",
       "      <td>Normal</td>\n",
       "      <td>0.659181</td>\n",
       "      <td>Normal</td>\n",
       "      <td>Normal</td>\n",
       "      <td>False</td>\n",
       "      <td>886753</td>\n",
       "      <td>True</td>\n",
       "      <td>False</td>\n",
       "      <td>True</td>\n",
       "      <td>False</td>\n",
       "      <td>True</td>\n",
       "      <td>True</td>\n",
       "      <td>False</td>\n",
       "      <td>-1</td>\n",
       "    </tr>\n",
       "    <tr>\n",
       "      <th>C-5</th>\n",
       "      <td>0.0</td>\n",
       "      <td>0.0</td>\n",
       "      <td>NaN</td>\n",
       "      <td>0.0</td>\n",
       "      <td>1.0</td>\n",
       "      <td>0.0</td>\n",
       "      <td>0.0</td>\n",
       "      <td>1.0</td>\n",
       "      <td>0.0</td>\n",
       "      <td>0.0</td>\n",
       "      <td>0.0</td>\n",
       "      <td>0.0</td>\n",
       "      <td>0.0</td>\n",
       "      <td>0.0</td>\n",
       "      <td>0.0</td>\n",
       "      <td>0.0</td>\n",
       "      <td>0.0</td>\n",
       "      <td>0.0</td>\n",
       "      <td>0.0</td>\n",
       "      <td>0.0</td>\n",
       "      <td>...</td>\n",
       "      <td>0.0</td>\n",
       "      <td>0.0</td>\n",
       "      <td>0.0</td>\n",
       "      <td>2.0</td>\n",
       "      <td>0.0</td>\n",
       "      <td>Alpha</td>\n",
       "      <td>Periferal blood</td>\n",
       "      <td>0.590000</td>\n",
       "      <td>Normal</td>\n",
       "      <td>High</td>\n",
       "      <td>False</td>\n",
       "      <td>1095474</td>\n",
       "      <td>False</td>\n",
       "      <td>True</td>\n",
       "      <td>True</td>\n",
       "      <td>True</td>\n",
       "      <td>True</td>\n",
       "      <td>False</td>\n",
       "      <td>True</td>\n",
       "      <td>1</td>\n",
       "    </tr>\n",
       "  </tbody>\n",
       "</table>\n",
       "<p>5 rows × 23385 columns</p>\n",
       "</div>"
      ],
      "text/plain": [
       "     A1BG  NAT2    ADA  CDH2  AKT3  GAGE12F  ZBTB11-AS1  MED6  NR2E3  NAALAD2  \\\n",
       "C-1   0.0   0.0    1.0   0.0   0.0      0.0         0.0   1.0    0.0      0.0   \n",
       "C-2   0.0   0.0    0.0   0.0   0.0      0.0        64.0   0.0    0.0      0.0   \n",
       "C-3   0.0   0.0  134.0   0.0   0.0      0.0         0.0   0.0    0.0      0.0   \n",
       "C-4   0.0   0.0    0.0   0.0   0.0      0.0         0.0   NaN    0.0      0.0   \n",
       "C-5   0.0   0.0    NaN   0.0   1.0      0.0         0.0   1.0    0.0      0.0   \n",
       "\n",
       "     SNORD116-1  SNORD116-2  SNORD116-3  SNORD116-4  SNORD116-5  SNORD116-8  \\\n",
       "C-1         0.0         0.0         0.0         0.0         0.0         0.0   \n",
       "C-2         0.0         0.0         0.0         0.0         0.0         0.0   \n",
       "C-3         0.0         NaN         0.0         0.0         0.0         0.0   \n",
       "C-4         0.0         0.0         0.0         0.0         0.0         0.0   \n",
       "C-5         0.0         0.0         0.0         0.0         0.0         0.0   \n",
       "\n",
       "     SNORD116-10  SNORD116-11  SNORD116-12  SNORD116-13  ...  PTBP3  KCNE2  \\\n",
       "C-1          0.0          0.0          0.0          0.0  ...    0.0    0.0   \n",
       "C-2          0.0          0.0          0.0          0.0  ...   91.0    0.0   \n",
       "C-3          0.0          0.0          0.0          0.0  ...  111.0    0.0   \n",
       "C-4          NaN          0.0          0.0          0.0  ...  469.0    NaN   \n",
       "C-5          0.0          0.0          0.0          0.0  ...    0.0    0.0   \n",
       "\n",
       "     DGCR2  CASP8AP2  SCO2  patient              tissue      size  level.mito  \\\n",
       "C-1    1.0       0.0   0.0    Alpha     Periferal blood  1.916922        High   \n",
       "C-2  366.0       0.0   0.0     Beta     Periferal blood  1.866695      Normal   \n",
       "C-3    0.0       0.0   0.0     Beta  Tumor-infiltrating  0.915932      Normal   \n",
       "C-4    0.0       0.0   0.0    Gamma              Normal  0.659181      Normal   \n",
       "C-5    0.0       2.0   0.0    Alpha     Periferal blood  0.590000      Normal   \n",
       "\n",
       "     level.ribo  low.yield    reads  marker.A  marker.B  marker.C  marker.D  \\\n",
       "C-1        High      False  1483135      True     False      True      True   \n",
       "C-2      Normal      False  1446762      True     False      True     False   \n",
       "C-3      Normal      False  1244242      True     False      True      True   \n",
       "C-4      Normal      False   886753      True     False      True     False   \n",
       "C-5        High      False  1095474     False      True      True      True   \n",
       "\n",
       "     marker.E  marker.F  marker.G  label  \n",
       "C-1      True     False      True     -1  \n",
       "C-2      True     False     False     -1  \n",
       "C-3      True     False      True     -1  \n",
       "C-4      True      True     False     -1  \n",
       "C-5      True     False      True      1  \n",
       "\n",
       "[5 rows x 23385 columns]"
      ]
     },
     "execution_count": 7,
     "metadata": {},
     "output_type": "execute_result"
    }
   ],
   "source": [
    "pd.set_option(\"display.max_columns\", 40)\n",
    "train_df.head()"
   ]
  },
  {
   "cell_type": "code",
   "execution_count": 8,
   "metadata": {},
   "outputs": [
    {
     "data": {
      "text/plain": [
       "A1BG        30\n",
       "NAT2        20\n",
       "ADA         54\n",
       "CDH2        33\n",
       "AKT3        58\n",
       "            ..\n",
       "marker.D     0\n",
       "marker.E     0\n",
       "marker.F     0\n",
       "marker.G     0\n",
       "label        0\n",
       "Length: 23385, dtype: int64"
      ]
     },
     "execution_count": 8,
     "metadata": {},
     "output_type": "execute_result"
    }
   ],
   "source": [
    "# Count number of NA values per column\n",
    "train_df.isnull().sum()"
   ]
  },
  {
   "cell_type": "code",
   "execution_count": 9,
   "metadata": {},
   "outputs": [
    {
     "data": {
      "text/plain": [
       "C-1       786\n",
       "C-2       817\n",
       "C-3       835\n",
       "C-4       750\n",
       "C-5       781\n",
       "         ... \n",
       "C-996     800\n",
       "C-997     824\n",
       "C-998     816\n",
       "C-999     836\n",
       "C-1000    829\n",
       "Length: 1000, dtype: int64"
      ]
     },
     "execution_count": 9,
     "metadata": {},
     "output_type": "execute_result"
    }
   ],
   "source": [
    "# Count number of NA values per row\n",
    "train_df.isnull().sum(axis=1)"
   ]
  },
  {
   "cell_type": "markdown",
   "metadata": {},
   "source": [
    "> We can see that the NA values are uniformily distributed in all the data\n",
    "* not one column or row can be removed in order to get rid of a major part of the NAs\n",
    "* the categorical features do not have any NAs"
   ]
  },
  {
   "cell_type": "code",
   "execution_count": 10,
   "metadata": {},
   "outputs": [
    {
     "data": {
      "text/plain": [
       "-1    885\n",
       " 1    115\n",
       "Name: label, dtype: int64"
      ]
     },
     "execution_count": 10,
     "metadata": {},
     "output_type": "execute_result"
    }
   ],
   "source": [
    "# Count number of -1 and 1 labels\n",
    "train_df[target].value_counts()"
   ]
  },
  {
   "cell_type": "markdown",
   "metadata": {},
   "source": [
    "> The data is imbalanced : the negative class accounts for 85% of all the data\n",
    "* has to be dealt with by model selection or other methods (resampling for example)"
   ]
  },
  {
   "cell_type": "code",
   "execution_count": 11,
   "metadata": {},
   "outputs": [
    {
     "data": {
      "text/plain": [
       "A1BG         123\n",
       "NAT2           2\n",
       "ADA          236\n",
       "CDH2           2\n",
       "AKT3         181\n",
       "            ... \n",
       "marker.D    1000\n",
       "marker.E    1000\n",
       "marker.F    1000\n",
       "marker.G    1000\n",
       "label       1000\n",
       "Length: 23385, dtype: int64"
      ]
     },
     "execution_count": 11,
     "metadata": {},
     "output_type": "execute_result"
    }
   ],
   "source": [
    "# Count number of non-zero cells per colums\n",
    "train_df.replace(0, np.nan).count()"
   ]
  },
  {
   "cell_type": "markdown",
   "metadata": {},
   "source": [
    "> The data has lots of zeros (data is sparse)\n",
    "* can be accounted for when doing imputation\n",
    "* data can be transformed to sparse data type for faster computation"
   ]
  },
  {
   "cell_type": "markdown",
   "metadata": {},
   "source": [
    "## Pre-processing\n",
    "\n",
    "Pre-processing will deal with the remarks above in order to prepare the data for the model training.\n",
    "\n",
    "It is important to fit on the training data and then to apply the same transformations to both the training and testing data frames."
   ]
  },
  {
   "cell_type": "markdown",
   "metadata": {},
   "source": [
    "### Categorical features handling\n",
    "\n",
    "Casting to float where possible, using [one-hot-encoding](https://scikit-learn.org/stable/modules/generated/sklearn.preprocessing.OneHotEncoder.html) where needed."
   ]
  },
  {
   "cell_type": "code",
   "execution_count": 12,
   "metadata": {},
   "outputs": [],
   "source": [
    "# As found by examining the data frame\n",
    "bool_columns = [\"low.yield\",  \"marker.A\", \"marker.B\", \"marker.C\", \"marker.D\", \"marker.E\", \"marker.F\", \"marker.G\"]\n",
    "int_columns = [\"reads\"]  # not \"label\" as it is the target feature (does not appear in test data)\n",
    "string_columns = [\"patient\", \"tissue\", \"level.mito\", \"level.ribo\"]\n",
    "string_columns_idx = [train_df.columns.get_loc(col_name) for col_name in string_columns]\n",
    "\n",
    "# After one-hot-encoding :\n",
    "string_columns_ohe = [\"patient.B\",\"patient.C\",\"patient.D\",\"patient.E\",\"tissue.periferal\",\"tissue.tumor\",\"level.mito.normal\",\"level.ribo.normal\"]"
   ]
  },
  {
   "cell_type": "code",
   "execution_count": 13,
   "metadata": {},
   "outputs": [],
   "source": [
    "# Transform bool to float\n",
    "train_df[bool_columns] = train_df[bool_columns].astype(float)\n",
    "test_df[bool_columns] = test_df[bool_columns].astype(float)"
   ]
  },
  {
   "cell_type": "code",
   "execution_count": 14,
   "metadata": {},
   "outputs": [],
   "source": [
    "# Transform int to float\n",
    "train_df[int_columns + [target]] = train_df[int_columns + [target]].astype(float)\n",
    "test_df[int_columns] = test_df[int_columns].astype(float)"
   ]
  },
  {
   "cell_type": "code",
   "execution_count": 15,
   "metadata": {},
   "outputs": [
    {
     "data": {
      "text/plain": [
       "OneHotEncoder(categories='auto', drop='first', dtype='float',\n",
       "              handle_unknown='error', sparse=False)"
      ]
     },
     "execution_count": 15,
     "metadata": {},
     "output_type": "execute_result"
    }
   ],
   "source": [
    "# Replace strings with one-hot-encoding ...\n",
    "ohe = preprocessing.OneHotEncoder(categories=\"auto\", drop=\"first\", sparse=False, dtype=\"float\")\n",
    "ohe.fit(train_df.values[:, string_columns_idx])"
   ]
  },
  {
   "cell_type": "code",
   "execution_count": 16,
   "metadata": {},
   "outputs": [],
   "source": [
    "# ... in train\n",
    "train_df_ohe_columns = pd.DataFrame(ohe.transform(train_df.values[:, string_columns_idx]))\n",
    "train_df_ohe_columns.columns = string_columns_ohe\n",
    "train_df_ohe_columns.index = train_df.index\n",
    "train_df[string_columns_ohe] = train_df_ohe_columns[string_columns_ohe]\n",
    "train_df = train_df.drop(columns=string_columns)"
   ]
  },
  {
   "cell_type": "code",
   "execution_count": 17,
   "metadata": {},
   "outputs": [],
   "source": [
    "# ... in test\n",
    "test_df_ohe_columns = pd.DataFrame(ohe.transform(test_df.values[:, string_columns_idx]))\n",
    "test_df_ohe_columns.columns = string_columns_ohe\n",
    "test_df_ohe_columns.index = test_df.index\n",
    "test_df[string_columns_ohe] = test_df_ohe_columns[string_columns_ohe]\n",
    "test_df = test_df.drop(columns=string_columns)"
   ]
  },
  {
   "cell_type": "markdown",
   "metadata": {},
   "source": [
    "### Handling NAs\n",
    "\n",
    "Replace NAs by their feature median. Median and not mean as the data is sparse (both have their own advantages)."
   ]
  },
  {
   "cell_type": "code",
   "execution_count": 18,
   "metadata": {},
   "outputs": [
    {
     "name": "stdout",
     "output_type": "stream",
     "text": [
      "CPU times: user 6.82 s, sys: 137 ms, total: 6.96 s\n",
      "Wall time: 6.95 s\n"
     ]
    }
   ],
   "source": [
    "%%time\n",
    "\n",
    "# Replace NAs with median of their column\n",
    "train_medians = train_df.median()\n",
    "train_df = train_df.fillna(train_medians)\n",
    "test_df = test_df.fillna(train_medians)"
   ]
  },
  {
   "cell_type": "markdown",
   "metadata": {},
   "source": [
    "### Removing features with no differentiation\n",
    "\n",
    "Lines with only one value (only zeros for example) are useless for the models."
   ]
  },
  {
   "cell_type": "code",
   "execution_count": 19,
   "metadata": {},
   "outputs": [],
   "source": [
    "unique_value_columns = []\n",
    "for col in train_df.columns:\n",
    "    if train_df[col].nunique() < 2:\n",
    "        unique_value_columns.append(col)"
   ]
  },
  {
   "cell_type": "code",
   "execution_count": 20,
   "metadata": {},
   "outputs": [
    {
     "name": "stdout",
     "output_type": "stream",
     "text": [
      "REMOVING 3554 FEATURES\n"
     ]
    }
   ],
   "source": [
    "print(f\"REMOVING {len(unique_value_columns)} FEATURES\")"
   ]
  },
  {
   "cell_type": "code",
   "execution_count": 21,
   "metadata": {},
   "outputs": [],
   "source": [
    "# Remove columns with 1 value\n",
    "train_df = train_df.drop(columns=unique_value_columns)\n",
    "test_df = test_df.drop(columns=unique_value_columns)"
   ]
  },
  {
   "cell_type": "markdown",
   "metadata": {},
   "source": [
    "### Removing correlated features\n",
    "\n",
    "Removing one of two features that have a correlation higher than correlation_threshold, as they have almost the same effect on the dependent variable (correlation ~ linearly dependent)."
   ]
  },
  {
   "cell_type": "code",
   "execution_count": 22,
   "metadata": {},
   "outputs": [
    {
     "name": "stdout",
     "output_type": "stream",
     "text": [
      "CPU times: user 7min 29s, sys: 2.4 s, total: 7min 32s\n",
      "Wall time: 7min 32s\n"
     ]
    }
   ],
   "source": [
    "%%time\n",
    "\n",
    "# Compute correlation matrix of features\n",
    "correlation_matrix = train_df.corr().abs()"
   ]
  },
  {
   "cell_type": "code",
   "execution_count": 23,
   "metadata": {},
   "outputs": [
    {
     "data": {
      "text/plain": [
       "<matplotlib.axes._subplots.AxesSubplot at 0x7fca08d56910>"
      ]
     },
     "execution_count": 23,
     "metadata": {},
     "output_type": "execute_result"
    },
    {
     "data": {
      "image/png": "[encoded data removed]",
      "text/plain": [
       "<Figure size 1800x720 with 2 Axes>"
      ]
     },
     "metadata": {
      "needs_background": "light"
     },
     "output_type": "display_data"
    }
   ],
   "source": [
    "fig=plt.figure(figsize=(25, 10))\n",
    "heatmap(correlation_matrix.iloc[-100:,-100:])"
   ]
  },
  {
   "cell_type": "code",
   "execution_count": 24,
   "metadata": {},
   "outputs": [
    {
     "name": "stdout",
     "output_type": "stream",
     "text": [
      "CPU times: user 28min 56s, sys: 829 ms, total: 28min 57s\n",
      "Wall time: 28min 57s\n"
     ]
    }
   ],
   "source": [
    "%%time\n",
    "\n",
    "correlated_features = []\n",
    "for i, col in enumerate(correlation_matrix.columns):\n",
    "    if col in correlated_features: \n",
    "        continue\n",
    "    for j, row in enumerate(correlation_matrix.columns[i+1:]):\n",
    "        if correlation_matrix[col][row] >= correlation_threshold:\n",
    "            if row == target:\n",
    "                print(f\"Target has high correlation with {col}, corr={correlation_matrix[col][row]}\")  # in case there might be a decisive feature\n",
    "            else:\n",
    "                correlated_features.append(row)\n",
    "\n",
    "correlated_features = np.unique(correlated_features)"
   ]
  },
  {
   "cell_type": "code",
   "execution_count": 25,
   "metadata": {},
   "outputs": [
    {
     "name": "stdout",
     "output_type": "stream",
     "text": [
      "REMOVING 3984 FEATURES\n"
     ]
    }
   ],
   "source": [
    "print(f\"REMOVING {correlated_features.size} FEATURES\")"
   ]
  },
  {
   "cell_type": "code",
   "execution_count": 26,
   "metadata": {},
   "outputs": [
    {
     "name": "stdout",
     "output_type": "stream",
     "text": [
      "CPU times: user 41.8 ms, sys: 39.7 ms, total: 81.5 ms\n",
      "Wall time: 80.7 ms\n"
     ]
    }
   ],
   "source": [
    "%%time\n",
    "\n",
    "# Remove corrolated columns\n",
    "train_df = train_df.drop(columns=correlated_features)\n",
    "test_df = test_df.drop(columns=correlated_features)"
   ]
  },
  {
   "cell_type": "markdown",
   "metadata": {},
   "source": [
    "> To go futher : \n",
    "* [Feature selection — Correlation and P-value](https://towardsdatascience.com/feature-selection-correlation-and-p-value-da8921bfb3cf)\n",
    "* univariate selection with t-test assessing whether the means of the features are significantly different\n",
    "* multivariate feature selection are interesting to explore (not the naive approaches which could be O(2^d))"
   ]
  },
  {
   "cell_type": "markdown",
   "metadata": {},
   "source": [
    "#### Save pre-processed data frame\n",
    "\n",
    "For later use. Saves time for next time."
   ]
  },
  {
   "cell_type": "code",
   "execution_count": 27,
   "metadata": {},
   "outputs": [],
   "source": [
    "# train_df.shape()"
   ]
  },
  {
   "cell_type": "code",
   "execution_count": 28,
   "metadata": {},
   "outputs": [],
   "source": [
    "# %%time\n",
    "# \n",
    "# # Save pre-processed data frame to CSVs\n",
    "# train_df.to_csv(train_fn[:-4] + \"-corr_thresh_\" + str(correlation_threshold) + \".csv\", index=True)\n",
    "# test_df.to_csv(test_fn[:-4] + \"-corr_thresh_\" + str(correlation_threshold) + \".csv\", index=True)"
   ]
  },
  {
   "cell_type": "markdown",
   "metadata": {},
   "source": [
    "### Parse data frames to sparse arrays\n",
    "\n",
    "For faster computing with scikit-learn library. From now on we'll be using numpy arrays and no pandas data frames anymore."
   ]
  },
  {
   "cell_type": "code",
   "execution_count": 29,
   "metadata": {},
   "outputs": [
    {
     "data": {
      "text/plain": [
       "0.16464570058671377"
      ]
     },
     "execution_count": 29,
     "metadata": {},
     "output_type": "execute_result"
    }
   ],
   "source": [
    "train_df.astype(pd.SparseDtype(\"float\", 0.0)).sparse.density"
   ]
  },
  {
   "cell_type": "markdown",
   "metadata": {},
   "source": [
    "> When a data frame's sparsity is larger than 0.10 it is interesting to convert to a sparse data type."
   ]
  },
  {
   "cell_type": "code",
   "execution_count": 30,
   "metadata": {},
   "outputs": [],
   "source": [
    "# Separate features and labels\n",
    "train_features = sparse.csr_matrix(train_df.loc[:, train_df.columns != target], dtype=\"float64\")\n",
    "train_labels = train_df.loc[:, target].values\n",
    "\n",
    "test_features = sparse.csr_matrix(test_df.loc[:, test_df.columns != target], dtype=\"float64\")\n",
    "test_labels = test_labels_df.iloc[:,0].values  # again : these exist only as validation (and are not given initially)"
   ]
  },
  {
   "cell_type": "markdown",
   "metadata": {},
   "source": [
    "### Removing low-variance features"
   ]
  },
  {
   "cell_type": "code",
   "execution_count": 31,
   "metadata": {},
   "outputs": [
    {
     "data": {
      "text/plain": [
       "VarianceThreshold(threshold=0.1)"
      ]
     },
     "execution_count": 31,
     "metadata": {},
     "output_type": "execute_result"
    }
   ],
   "source": [
    "variance_filter = VarianceThreshold(threshold=variance_threshold) \n",
    "variance_filter.fit(train_features)"
   ]
  },
  {
   "cell_type": "code",
   "execution_count": 32,
   "metadata": {},
   "outputs": [
    {
     "name": "stdout",
     "output_type": "stream",
     "text": [
      "REMOVING 1712 FEATURES\n"
     ]
    }
   ],
   "source": [
    "print(f\"REMOVING {train_features.shape[1] - np.count_nonzero(variance_filter.get_support())} FEATURES\")"
   ]
  },
  {
   "cell_type": "code",
   "execution_count": 33,
   "metadata": {},
   "outputs": [],
   "source": [
    "train_features = variance_filter.transform(train_features)\n",
    "test_features = variance_filter.transform(test_features)"
   ]
  },
  {
   "cell_type": "markdown",
   "metadata": {},
   "source": [
    "### Scaling features\n",
    "\n",
    "Some classifiers (ex: MLP and SVC) are sensitive to feature scaling. Could be skipped for decision trees."
   ]
  },
  {
   "cell_type": "code",
   "execution_count": 34,
   "metadata": {
    "scrolled": true
   },
   "outputs": [],
   "source": [
    "# scaler = preprocessing.StandardScaler(with_mean=False)  # with_mean=False because of sparse matrix\n",
    "# scaler.fit(train_features)"
   ]
  },
  {
   "cell_type": "code",
   "execution_count": 35,
   "metadata": {},
   "outputs": [],
   "source": [
    "# train_features = scaler.transform(train_features)\n",
    "# test_features = scaler.transform(test_features)"
   ]
  },
  {
   "cell_type": "markdown",
   "metadata": {},
   "source": [
    "#### Done with preprocessing\n",
    "> It is interesting to note the shape of the data set now. A bunch of features have been removed and the data is ready to be used in the training of the models."
   ]
  },
  {
   "cell_type": "code",
   "execution_count": 36,
   "metadata": {},
   "outputs": [
    {
     "data": {
      "text/plain": [
       "(1000, 14138)"
      ]
     },
     "execution_count": 36,
     "metadata": {},
     "output_type": "execute_result"
    }
   ],
   "source": [
    "train_features.shape"
   ]
  },
  {
   "cell_type": "code",
   "execution_count": 37,
   "metadata": {},
   "outputs": [
    {
     "data": {
      "text/html": [
       "<div>\n",
       "<style scoped>\n",
       "    .dataframe tbody tr th:only-of-type {\n",
       "        vertical-align: middle;\n",
       "    }\n",
       "\n",
       "    .dataframe tbody tr th {\n",
       "        vertical-align: top;\n",
       "    }\n",
       "\n",
       "    .dataframe thead th {\n",
       "        text-align: right;\n",
       "    }\n",
       "</style>\n",
       "<table border=\"1\" class=\"dataframe\">\n",
       "  <thead>\n",
       "    <tr style=\"text-align: right;\">\n",
       "      <th></th>\n",
       "      <th>0</th>\n",
       "      <th>1</th>\n",
       "      <th>2</th>\n",
       "      <th>3</th>\n",
       "      <th>4</th>\n",
       "      <th>5</th>\n",
       "      <th>6</th>\n",
       "      <th>7</th>\n",
       "      <th>8</th>\n",
       "      <th>9</th>\n",
       "      <th>10</th>\n",
       "      <th>11</th>\n",
       "      <th>12</th>\n",
       "      <th>13</th>\n",
       "      <th>14</th>\n",
       "      <th>15</th>\n",
       "      <th>16</th>\n",
       "      <th>17</th>\n",
       "      <th>18</th>\n",
       "      <th>19</th>\n",
       "      <th>...</th>\n",
       "      <th>14118</th>\n",
       "      <th>14119</th>\n",
       "      <th>14120</th>\n",
       "      <th>14121</th>\n",
       "      <th>14122</th>\n",
       "      <th>14123</th>\n",
       "      <th>14124</th>\n",
       "      <th>14125</th>\n",
       "      <th>14126</th>\n",
       "      <th>14127</th>\n",
       "      <th>14128</th>\n",
       "      <th>14129</th>\n",
       "      <th>14130</th>\n",
       "      <th>14131</th>\n",
       "      <th>14132</th>\n",
       "      <th>14133</th>\n",
       "      <th>14134</th>\n",
       "      <th>14135</th>\n",
       "      <th>14136</th>\n",
       "      <th>14137</th>\n",
       "    </tr>\n",
       "  </thead>\n",
       "  <tbody>\n",
       "    <tr>\n",
       "      <th>0</th>\n",
       "      <td>0.0</td>\n",
       "      <td>1.0</td>\n",
       "      <td>0.0</td>\n",
       "      <td>0.0</td>\n",
       "      <td>1.0</td>\n",
       "      <td>0.0</td>\n",
       "      <td>0.0</td>\n",
       "      <td>0.0</td>\n",
       "      <td>0.0</td>\n",
       "      <td>0.0</td>\n",
       "      <td>0.0</td>\n",
       "      <td>0.0</td>\n",
       "      <td>0.0</td>\n",
       "      <td>0.0</td>\n",
       "      <td>0.0</td>\n",
       "      <td>0.0</td>\n",
       "      <td>0.0</td>\n",
       "      <td>0.0</td>\n",
       "      <td>0.0</td>\n",
       "      <td>0.0</td>\n",
       "      <td>...</td>\n",
       "      <td>0.0</td>\n",
       "      <td>1.0</td>\n",
       "      <td>0.0</td>\n",
       "      <td>0.0</td>\n",
       "      <td>1.916922</td>\n",
       "      <td>1483135.0</td>\n",
       "      <td>1.0</td>\n",
       "      <td>0.0</td>\n",
       "      <td>1.0</td>\n",
       "      <td>1.0</td>\n",
       "      <td>0.0</td>\n",
       "      <td>1.0</td>\n",
       "      <td>0.0</td>\n",
       "      <td>0.0</td>\n",
       "      <td>0.0</td>\n",
       "      <td>0.0</td>\n",
       "      <td>1.0</td>\n",
       "      <td>0.0</td>\n",
       "      <td>0.0</td>\n",
       "      <td>0.0</td>\n",
       "    </tr>\n",
       "    <tr>\n",
       "      <th>1</th>\n",
       "      <td>0.0</td>\n",
       "      <td>0.0</td>\n",
       "      <td>0.0</td>\n",
       "      <td>64.0</td>\n",
       "      <td>0.0</td>\n",
       "      <td>0.0</td>\n",
       "      <td>0.0</td>\n",
       "      <td>0.0</td>\n",
       "      <td>0.0</td>\n",
       "      <td>0.0</td>\n",
       "      <td>0.0</td>\n",
       "      <td>0.0</td>\n",
       "      <td>0.0</td>\n",
       "      <td>0.0</td>\n",
       "      <td>0.0</td>\n",
       "      <td>0.0</td>\n",
       "      <td>0.0</td>\n",
       "      <td>0.0</td>\n",
       "      <td>1.0</td>\n",
       "      <td>0.0</td>\n",
       "      <td>...</td>\n",
       "      <td>91.0</td>\n",
       "      <td>366.0</td>\n",
       "      <td>0.0</td>\n",
       "      <td>0.0</td>\n",
       "      <td>1.866695</td>\n",
       "      <td>1446762.0</td>\n",
       "      <td>1.0</td>\n",
       "      <td>0.0</td>\n",
       "      <td>1.0</td>\n",
       "      <td>0.0</td>\n",
       "      <td>0.0</td>\n",
       "      <td>0.0</td>\n",
       "      <td>1.0</td>\n",
       "      <td>0.0</td>\n",
       "      <td>0.0</td>\n",
       "      <td>0.0</td>\n",
       "      <td>1.0</td>\n",
       "      <td>0.0</td>\n",
       "      <td>1.0</td>\n",
       "      <td>1.0</td>\n",
       "    </tr>\n",
       "    <tr>\n",
       "      <th>2</th>\n",
       "      <td>0.0</td>\n",
       "      <td>134.0</td>\n",
       "      <td>0.0</td>\n",
       "      <td>0.0</td>\n",
       "      <td>0.0</td>\n",
       "      <td>0.0</td>\n",
       "      <td>0.0</td>\n",
       "      <td>0.0</td>\n",
       "      <td>0.0</td>\n",
       "      <td>0.0</td>\n",
       "      <td>0.0</td>\n",
       "      <td>0.0</td>\n",
       "      <td>0.0</td>\n",
       "      <td>0.0</td>\n",
       "      <td>0.0</td>\n",
       "      <td>0.0</td>\n",
       "      <td>0.0</td>\n",
       "      <td>0.0</td>\n",
       "      <td>0.0</td>\n",
       "      <td>0.0</td>\n",
       "      <td>...</td>\n",
       "      <td>111.0</td>\n",
       "      <td>0.0</td>\n",
       "      <td>0.0</td>\n",
       "      <td>0.0</td>\n",
       "      <td>0.915932</td>\n",
       "      <td>1244242.0</td>\n",
       "      <td>1.0</td>\n",
       "      <td>0.0</td>\n",
       "      <td>1.0</td>\n",
       "      <td>1.0</td>\n",
       "      <td>0.0</td>\n",
       "      <td>1.0</td>\n",
       "      <td>1.0</td>\n",
       "      <td>0.0</td>\n",
       "      <td>0.0</td>\n",
       "      <td>0.0</td>\n",
       "      <td>0.0</td>\n",
       "      <td>1.0</td>\n",
       "      <td>1.0</td>\n",
       "      <td>1.0</td>\n",
       "    </tr>\n",
       "    <tr>\n",
       "      <th>3</th>\n",
       "      <td>0.0</td>\n",
       "      <td>0.0</td>\n",
       "      <td>0.0</td>\n",
       "      <td>0.0</td>\n",
       "      <td>0.0</td>\n",
       "      <td>0.0</td>\n",
       "      <td>0.0</td>\n",
       "      <td>0.0</td>\n",
       "      <td>0.0</td>\n",
       "      <td>0.0</td>\n",
       "      <td>0.0</td>\n",
       "      <td>0.0</td>\n",
       "      <td>0.0</td>\n",
       "      <td>0.0</td>\n",
       "      <td>0.0</td>\n",
       "      <td>0.0</td>\n",
       "      <td>0.0</td>\n",
       "      <td>0.0</td>\n",
       "      <td>0.0</td>\n",
       "      <td>0.0</td>\n",
       "      <td>...</td>\n",
       "      <td>469.0</td>\n",
       "      <td>0.0</td>\n",
       "      <td>0.0</td>\n",
       "      <td>0.0</td>\n",
       "      <td>0.659181</td>\n",
       "      <td>886753.0</td>\n",
       "      <td>1.0</td>\n",
       "      <td>0.0</td>\n",
       "      <td>1.0</td>\n",
       "      <td>0.0</td>\n",
       "      <td>1.0</td>\n",
       "      <td>0.0</td>\n",
       "      <td>0.0</td>\n",
       "      <td>0.0</td>\n",
       "      <td>0.0</td>\n",
       "      <td>1.0</td>\n",
       "      <td>0.0</td>\n",
       "      <td>0.0</td>\n",
       "      <td>1.0</td>\n",
       "      <td>1.0</td>\n",
       "    </tr>\n",
       "    <tr>\n",
       "      <th>4</th>\n",
       "      <td>0.0</td>\n",
       "      <td>0.0</td>\n",
       "      <td>1.0</td>\n",
       "      <td>0.0</td>\n",
       "      <td>1.0</td>\n",
       "      <td>0.0</td>\n",
       "      <td>0.0</td>\n",
       "      <td>0.0</td>\n",
       "      <td>0.0</td>\n",
       "      <td>0.0</td>\n",
       "      <td>0.0</td>\n",
       "      <td>0.0</td>\n",
       "      <td>0.0</td>\n",
       "      <td>0.0</td>\n",
       "      <td>0.0</td>\n",
       "      <td>0.0</td>\n",
       "      <td>0.0</td>\n",
       "      <td>0.0</td>\n",
       "      <td>0.0</td>\n",
       "      <td>0.0</td>\n",
       "      <td>...</td>\n",
       "      <td>0.0</td>\n",
       "      <td>0.0</td>\n",
       "      <td>2.0</td>\n",
       "      <td>0.0</td>\n",
       "      <td>0.590000</td>\n",
       "      <td>1095474.0</td>\n",
       "      <td>0.0</td>\n",
       "      <td>1.0</td>\n",
       "      <td>1.0</td>\n",
       "      <td>1.0</td>\n",
       "      <td>0.0</td>\n",
       "      <td>1.0</td>\n",
       "      <td>0.0</td>\n",
       "      <td>0.0</td>\n",
       "      <td>0.0</td>\n",
       "      <td>0.0</td>\n",
       "      <td>1.0</td>\n",
       "      <td>0.0</td>\n",
       "      <td>1.0</td>\n",
       "      <td>0.0</td>\n",
       "    </tr>\n",
       "  </tbody>\n",
       "</table>\n",
       "<p>5 rows × 14138 columns</p>\n",
       "</div>"
      ],
      "text/plain": [
       "   0      1      2      3      4      5      6      7      8      9      \\\n",
       "0    0.0    1.0    0.0    0.0    1.0    0.0    0.0    0.0    0.0    0.0   \n",
       "1    0.0    0.0    0.0   64.0    0.0    0.0    0.0    0.0    0.0    0.0   \n",
       "2    0.0  134.0    0.0    0.0    0.0    0.0    0.0    0.0    0.0    0.0   \n",
       "3    0.0    0.0    0.0    0.0    0.0    0.0    0.0    0.0    0.0    0.0   \n",
       "4    0.0    0.0    1.0    0.0    1.0    0.0    0.0    0.0    0.0    0.0   \n",
       "\n",
       "   10     11     12     13     14     15     16     17     18     19     ...  \\\n",
       "0    0.0    0.0    0.0    0.0    0.0    0.0    0.0    0.0    0.0    0.0  ...   \n",
       "1    0.0    0.0    0.0    0.0    0.0    0.0    0.0    0.0    1.0    0.0  ...   \n",
       "2    0.0    0.0    0.0    0.0    0.0    0.0    0.0    0.0    0.0    0.0  ...   \n",
       "3    0.0    0.0    0.0    0.0    0.0    0.0    0.0    0.0    0.0    0.0  ...   \n",
       "4    0.0    0.0    0.0    0.0    0.0    0.0    0.0    0.0    0.0    0.0  ...   \n",
       "\n",
       "   14118  14119  14120  14121     14122      14123  14124  14125  14126  \\\n",
       "0    0.0    1.0    0.0    0.0  1.916922  1483135.0    1.0    0.0    1.0   \n",
       "1   91.0  366.0    0.0    0.0  1.866695  1446762.0    1.0    0.0    1.0   \n",
       "2  111.0    0.0    0.0    0.0  0.915932  1244242.0    1.0    0.0    1.0   \n",
       "3  469.0    0.0    0.0    0.0  0.659181   886753.0    1.0    0.0    1.0   \n",
       "4    0.0    0.0    2.0    0.0  0.590000  1095474.0    0.0    1.0    1.0   \n",
       "\n",
       "   14127  14128  14129  14130  14131  14132  14133  14134  14135  14136  14137  \n",
       "0    1.0    0.0    1.0    0.0    0.0    0.0    0.0    1.0    0.0    0.0    0.0  \n",
       "1    0.0    0.0    0.0    1.0    0.0    0.0    0.0    1.0    0.0    1.0    1.0  \n",
       "2    1.0    0.0    1.0    1.0    0.0    0.0    0.0    0.0    1.0    1.0    1.0  \n",
       "3    0.0    1.0    0.0    0.0    0.0    0.0    1.0    0.0    0.0    1.0    1.0  \n",
       "4    1.0    0.0    1.0    0.0    0.0    0.0    0.0    1.0    0.0    1.0    0.0  \n",
       "\n",
       "[5 rows x 14138 columns]"
      ]
     },
     "execution_count": 37,
     "metadata": {},
     "output_type": "execute_result"
    }
   ],
   "source": [
    "pd.DataFrame(train_features.todense()).head()"
   ]
  },
  {
   "cell_type": "markdown",
   "metadata": {},
   "source": [
    "## Model parametering"
   ]
  },
  {
   "cell_type": "code",
   "execution_count": 38,
   "metadata": {},
   "outputs": [],
   "source": [
    "# Creating new Multi-Layer Perceptron classifier\n",
    "def MLP_classifier(hidden_layer_sizes=(100,), activation=\"tanh\", alpha=0.0001, max_iter=200, mlp_tol=0.0001):\n",
    "    classifier = MLPClassifier(solver=\"lbfgs\",  # the default solver ‘adam’ works pretty well on relatively large datasets (with thousands of training samples or more) in terms of both training time and validation score. For small datasets, however, ‘lbfgs’ can converge faster and perform better.\n",
    "                               hidden_layer_sizes=hidden_layer_sizes,  # the ith element represents the number of neurons in the ith hidden layer\n",
    "                               activation=activation,  # ‘identity’, ‘logistic’, ‘tanh’, ‘relu’\n",
    "                               alpha=alpha,  # regularization term\n",
    "                               max_iter=max_iter,       \n",
    "                               tol=mlp_tol,  # tolerance for the optimization. When the loss or score is not improving by at least tol, convergence is considered to be reached and training stops\n",
    "                               max_fun=50000,  # maximum number of loss function calls. The solver iterates until convergence (determined by ‘tol’), number of iterations reaches max_iter, or this number of loss function calls\n",
    "                               warm_start=False,  # reuse the solution of the previous call to fit as initialization, otherwise, just erase the previous solution\n",
    "                               verbose=False, \n",
    "                               random_state=RANDOM_STATE)\n",
    "    return classifier\n",
    "\n",
    "# Creating new Random Forest classifier\n",
    "def RF_classifier(n_estimators=100, criterion=\"gini\", max_depth=None, ccp_alpha=0.0):\n",
    "    classifier = RandomForestClassifier(n_estimators=n_estimators,  # number of trees in the forest\n",
    "                                        criterion=criterion, # \"gini\" \"entropy\" - function to measure the quality of a split\n",
    "                                        max_depth=max_depth,\n",
    "                                        min_samples_split=2,\n",
    "                                        min_samples_leaf=1,\n",
    "                                        min_weight_fraction_leaf=0.0,\n",
    "                                        max_features=\"auto\",\n",
    "                                        max_leaf_nodes=None,\n",
    "                                        min_impurity_decrease=0.01,\n",
    "                                        min_impurity_split=None,\n",
    "                                        bootstrap=True,\n",
    "                                        oob_score=False,\n",
    "                                        n_jobs=-1,  # number of jobs to run in parallel, -1 means using all processors\n",
    "                                        random_state=RANDOM_STATE,\n",
    "                                        verbose=0,\n",
    "                                        warm_start=False,\n",
    "                                        class_weight=train_df[target].value_counts().to_dict(),\n",
    "                                        ccp_alpha=ccp_alpha,  # complexity parameter used for Minimal Cost-Complexity Pruning\n",
    "                                        max_samples=None)\n",
    "    return classifier\n",
    "\n",
    "# Creating new Support Vector classifier\n",
    "def SVC_classifier(C=1.0, kernel=\"rbf\", degree=3, gamma=\"scale\", coef0=0.0, svc_tol=0.001):\n",
    "    classifier = SVC(C=C,  # regularization parameter. The strength of the regularization is inversely proportional to C. Must be strictly positive\n",
    "                     kernel=kernel,  # ‘linear’, ‘poly’, ‘rbf’, ‘sigmoid’\n",
    "                     degree=degree,  # degree of the polynomial kernel function (‘poly’). Ignored by all other kernels\n",
    "                     gamma=gamma,  # kernel coefficient for ‘rbf’, ‘poly’ and ‘sigmoid’\n",
    "                     coef0=coef0,  # independent term in kernel function. It is only significant in ‘poly’ and ‘sigmoid’\n",
    "                     shrinking=True,  # whether to use the shrinking heuristic\n",
    "                     tol=svc_tol, \n",
    "                     cache_size=16000,  # 16GB, def:200MB\n",
    "                     class_weight=train_df[target].value_counts().to_dict(),\n",
    "                     verbose=False, \n",
    "                     max_iter=-1, \n",
    "                     break_ties=False, \n",
    "                     random_state=RANDOM_STATE)\n",
    "    return classifier\n",
    "\n",
    "# Creating new AdaBoost classifier\n",
    "def AdaBoost_classifier(base_estimator=None, ab_n_estimators=50, ab_learning_rate=1.0):\n",
    "    classifier = AdaBoostClassifier(base_estimator=base_estimator,  # default (None) : DecisionTreeClassifier(max_depth=1)\n",
    "                                    n_estimators=ab_n_estimators,\n",
    "                                    learning_rate=ab_learning_rate,\n",
    "                                    algorithm='SAMME',  # ‘SAMME’, ‘SAMME.R’. For SAMME.R real boosting algorithm : base_estimator must support calculation of class probabilities.\n",
    "                                    random_state=RANDOM_STATE)\n",
    "    return classifier\n",
    "\n",
    "# Creating new DL8.5 classifier\n",
    "def DL85_classifier(max_depth, min_sup, time_limit=0):\n",
    "    classifier = DL85Classifier(max_depth=max_depth,\n",
    "                                min_sup=min_sup,\n",
    "                                time_limit=time_limit)  # max_error parameter ?\n",
    "    return classifier\n",
    "\n",
    "# Creating new Grid Search CV\n",
    "def GridSearchCV_searcher(estimator, param_grid, cv):\n",
    "    searcher = GridSearchCV(estimator, param_grid, \n",
    "                            scoring=\"balanced_accuracy\", \n",
    "                            n_jobs=-1, \n",
    "                            refit=True, \n",
    "                            cv=cv, \n",
    "                            verbose=0, \n",
    "                            pre_dispatch=\"2*n_jobs\", \n",
    "                            error_score=\"raise\", \n",
    "                            return_train_score=False)\n",
    "    return searcher"
   ]
  },
  {
   "cell_type": "markdown",
   "metadata": {},
   "source": [
    "> It is important to note that `class_weight` has to be defined when possible to adress the imbalance problem."
   ]
  },
  {
   "cell_type": "code",
   "execution_count": 39,
   "metadata": {},
   "outputs": [],
   "source": [
    "# Hyper-parameter alternatives\n",
    "mlp_hp = {\"hidden_layer_sizes\": [(512,256,128,64,32,16)],\n",
    "          \"activation\": [\"tanh\"],\n",
    "          \"alpha\": [0.0001],\n",
    "          \"max_iter\": [2000],\n",
    "          \"tol\": [0.00001]\n",
    "         }\n",
    "\n",
    "rf_hp = {\"n_estimators\": [100],\n",
    "         \"criterion\": [\"gini\"],\n",
    "         \"max_depth\": [5],\n",
    "         \"ccp_alpha\": [0.00001],\n",
    "        }\n",
    "\n",
    "svc_hp = {\"C\": [5], \n",
    "          \"kernel\": [\"sigmoid\"],  # \"poly\", \"rbf\", \"sigmoid\"\n",
    "          \"degree\": [3],  # , 5, 10, 100\n",
    "          \"gamma\": [1/12000.0], \n",
    "          \"coef0\": [1], \n",
    "          \"tol\": [0.0001]\n",
    "         }\n",
    "\n",
    "ab_hp = {\"base_estimator\": [None],\n",
    "         \"n_estimators\": [200], \n",
    "         \"learning_rate\": [1.0]\n",
    "        }\n",
    "\n",
    "\n",
    "best_mlp_hp, best_rf_hp, best_svc_hp, best_ab_hp= None, None, None, None"
   ]
  },
  {
   "cell_type": "markdown",
   "metadata": {},
   "source": [
    "> * A note on chosing between Gini and entropy can be found [here](https://towardsdatascience.com/gini-index-vs-information-entropy-7a7e4fed3fcb)\n",
    "* A comment on model selection : \n",
    " * when #samples << dimensions\n",
    "   * MLP : often not best approach \n",
    "   * linear models : often good\n",
    " * to go further : [voting classifier with majority voting](https://scikit-learn.org/stable/modules/ensemble.html#voting-classifier)"
   ]
  },
  {
   "cell_type": "markdown",
   "metadata": {},
   "source": [
    "## Nested K-Cross Validation loops\n",
    "\n",
    "Nesting is to avoid optimistic evaluation of hyper-parameters."
   ]
  },
  {
   "cell_type": "code",
   "execution_count": 40,
   "metadata": {},
   "outputs": [],
   "source": [
    "K_ext = 10\n",
    "validation_size = 0.2\n",
    "K_int = 0\n",
    "\n",
    "mlp_accuracies = []\n",
    "rf_accuracies = []\n",
    "svc_accuracies = []\n",
    "ab_accuracies = []"
   ]
  },
  {
   "cell_type": "code",
   "execution_count": 41,
   "metadata": {},
   "outputs": [
    {
     "name": "stdout",
     "output_type": "stream",
     "text": [
      "\u001b[1mIteration 1/10\u001b[0m\n",
      "Training ...\n",
      "   Ada : 0.717391304347826\n",
      "\u001b[1mIteration 2/10\u001b[0m\n",
      "Training ...\n",
      "   Ada : 0.7334807172684844\n",
      "\u001b[1mIteration 3/10\u001b[0m\n",
      "Training ...\n",
      "   Ada : 0.7117415868337018\n",
      "\u001b[1mIteration 4/10\u001b[0m\n",
      "Training ...\n",
      "   Ada : 0.7495701301891426\n",
      "\u001b[1mIteration 5/10\u001b[0m\n",
      "Training ...\n",
      "   Ada : 0.6626136084500123\n",
      "\u001b[1mIteration 6/10\u001b[0m\n",
      "Training ...\n",
      "   Ada : 0.6521739130434783\n",
      "\u001b[1mIteration 7/10\u001b[0m\n",
      "Training ...\n",
      "   Ada : 0.7306558585114222\n",
      "\u001b[1mIteration 8/10\u001b[0m\n",
      "Training ...\n",
      "   Ada : 0.6900024563989192\n",
      "\u001b[1mIteration 9/10\u001b[0m\n",
      "Training ...\n",
      "   Ada : 0.6521739130434783\n",
      "\u001b[1mIteration 10/10\u001b[0m\n",
      "Training ...\n",
      "   Ada : 0.6493490542864162\n"
     ]
    }
   ],
   "source": [
    "splitter = StratifiedShuffleSplit(n_splits=K_ext, test_size=validation_size, random_state=RANDOM_STATE)  # partition D into T_i sets accounting for test_size, K_ext times\n",
    "for k, (train_indices, validation_indices) in enumerate(splitter.split(train_features, train_labels)):  # for k in 1:K_ext :\n",
    "    # S_k = D - T_k\n",
    "    train_features_cv = train_features[train_indices]\n",
    "    train_labels_cv = train_labels[train_indices]\n",
    "\n",
    "    validation_features_cv = train_features[validation_indices]\n",
    "    validation_labels_cv = train_labels[validation_indices]\n",
    "        \n",
    "    print('\\033[1m' + f\"Iteration {k+1}/{K_ext}\" + '\\033[0m')  # printing in bold\n",
    "    \n",
    "    \n",
    "    # BEGIN INNER LOOP\n",
    "    \n",
    "    if K_int < 2:  # no inner loop (no hyper-param CV)\n",
    "        hidden_layer_sizes, activation, alpha, max_iter, mlp_tol = mlp_hp[\"hidden_layer_sizes\"][0], mlp_hp[\"activation\"][0], mlp_hp[\"alpha\"][0], mlp_hp[\"max_iter\"][0], mlp_hp[\"tol\"][0]\n",
    "        n_estimators, criterion, max_depth, ccp_alpha = rf_hp[\"n_estimators\"][0], rf_hp[\"criterion\"][0], rf_hp[\"max_depth\"][0], rf_hp[\"ccp_alpha\"][0]\n",
    "        C, kernel, degree, gamma, coef0, svc_tol = svc_hp[\"C\"][0], svc_hp[\"kernel\"][0], svc_hp[\"degree\"][0], svc_hp[\"gamma\"][0], svc_hp[\"coef0\"][0], svc_hp[\"tol\"][0]\n",
    "        base_estimator, ab_n_estimators, ab_learning_rate = ab_hp[\"base_estimator\"][0], ab_hp[\"n_estimators\"][0], ab_hp[\"learning_rate\"][0]\n",
    "    else:\n",
    "        # partition S_k into K_int disjoint sets TT_i\n",
    "        # for_each hp in HP :\n",
    "#        mlp_hp_searcher = GridSearchCV_searcher(MLP_classifier(), param_grid=mlp_hp, cv=K_int)\n",
    "#        rf_hp_searcher = GridSearchCV_searcher(RF_classifier(), param_grid=rf_hp, cv=K_int)\n",
    "#        svc_hp_searcher = GridSearchCV_searcher(SVC_classifier(), param_grid=svc_hp, cv=K_int)\n",
    "        ab_hp_searcher = GridSearchCV_searcher(AdaBoost_classifier(), param_grid=ab_hp, cv=K_int)\n",
    "        \n",
    "        print(\"Finding hyper-params ...\")\n",
    "        # SS_k' = S_k - TT_k'\n",
    "        # M = MLP(SS_k', hp)\n",
    "        # for k' in 1:K_int :\n",
    "\n",
    "#        mlp_hp_searcher.fit(train_features_cv, train_labels_cv)\n",
    "#        print(\"   MLP hp found : \", end=\"\")\n",
    "#        best_mlp_hp = mlp_hp_searcher.best_params_\n",
    "#        print(best_mlp_hp)\n",
    "\n",
    "#        rf_hp_searcher.fit(train_features_cv, train_labels_cv)\n",
    "#        print(\"   RF hp found : \", end=\"\")\n",
    "#        best_rf_hp = rf_hp_searcher.best_params_\n",
    "#        print(best_rf_hp)\n",
    "        \n",
    "#        svc_hp_searcher.fit(train_features_cv, train_labels_cv)\n",
    "#        print(\"   SVC hp found : \", end=\"\")\n",
    "#        best_svc_hp = svc_hp_searcher.best_params_\n",
    "#        print(best_svc_hp)\n",
    "        \n",
    "        ab_hp_searcher.fit(train_features_cv, train_labels_cv)\n",
    "        print(\"   Ada hp found : \", end=\"\")\n",
    "        best_ab_hp = ab_hp_searcher.best_params_\n",
    "        print(best_ab_hp)\n",
    "        \n",
    "        # get optimal hyper-parameters\n",
    "#        hidden_layer_sizes, activation, alpha, max_iter, mlp_tol = best_mlp_hp[\"hidden_layer_sizes\"], best_mlp_hp[\"activation\"], best_mlp_hp[\"alpha\"], best_mlp_hp[\"max_iter\"], best_mlp_hp[\"tol\"]\n",
    "#        n_estimators, criterion, max_depth, ccp_alpha = best_rf_hp[\"n_estimators\"], best_rf_hp[\"criterion\"], best_rf_hp[\"max_depth\"], best_rf_hp[\"ccp_alpha\"]\n",
    "#        C, kernel, degree, gamma, coef0, svc_tol = best_svc_hp[\"C\"], best_svc_hp[\"kernel\"], best_svc_hp[\"degree\"], best_svc_hp[\"gamma\"], best_svc_hp[\"coef0\"], best_svc_hp[\"tol\"], \n",
    "        base_estimator, ab_n_estimators, ab_learning_rate = best_ab_hp[\"base_estimator\"], best_ab_hp[\"n_estimators\"], best_ab_hp[\"learning_rate\"]\n",
    "\n",
    "    # END INNER LOOP    \n",
    "    \n",
    "    \n",
    "#    mlp_clf = MLP_classifier(hidden_layer_sizes=hidden_layer_sizes, activation=activation, alpha=alpha, max_iter=max_iter, mlp_tol=mlp_tol)\n",
    "#    rf_clf = RF_classifier(n_estimators=n_estimators, criterion=criterion, max_depth=max_depth, ccp_alpha=ccp_alpha)\n",
    "#    svc_clf = SVC_classifier(C=C, kernel=kernel, degree=degree, gamma=gamma, coef0=coef0, svc_tol=svc_tol)\n",
    "    ab_clf = AdaBoost_classifier(base_estimator=base_estimator, ab_n_estimators=ab_n_estimators, ab_learning_rate=ab_learning_rate)\n",
    "    \n",
    "    print(\"Training ...\")\n",
    "#    mlp_clf.fit(train_features_cv, train_labels_cv)\n",
    "#    rf_clf.fit(train_features_cv, train_labels_cv)\n",
    "#    svc_clf.fit(train_features_cv, train_labels_cv, sample_weight=None)  # TODO sample_weight\n",
    "    ab_clf.fit(train_features_cv, train_labels_cv)\n",
    "    \n",
    "    # Compute error rates of M* on T_k\n",
    "#    mlp_predictions = mlp_clf.predict(validation_features_cv)\n",
    "#    rf_predictions = rf_clf.predict(validation_features_cv)\n",
    "#    svc_predictions = svc_clf.predict(validation_features_cv)\n",
    "    ab_predictions = ab_clf.predict(validation_features_cv)\n",
    "    \n",
    "    # Compute balanced classification rate\n",
    "#    mlp_bcr = metrics.balanced_accuracy_score(y_pred=mlp_predictions, y_true=validation_labels_cv)\n",
    "#    rf_bcr = metrics.balanced_accuracy_score(y_pred=rf_predictions, y_true=validation_labels_cv)\n",
    "#    svc_bcr = metrics.balanced_accuracy_score(y_pred=svc_predictions, y_true=validation_labels_cv)\n",
    "    ab_bcr = metrics.balanced_accuracy_score(y_pred=ab_predictions, y_true=validation_labels_cv)\n",
    "    \n",
    "    # Average (over various T_k) error rate of M*\n",
    "#    mlp_accuracies.append(mlp_bcr)\n",
    "#    print(f\"   MLP : {mlp_bcr}\")\n",
    "    \n",
    "#    rf_accuracies.append(rf_bcr)\n",
    "#    print(f\"   RF  : {rf_bcr}\")\n",
    "    \n",
    "#    svc_accuracies.append(svc_bcr)\n",
    "#    print(f\"   SVC : {svc_bcr}\")\n",
    "     \n",
    "    ab_accuracies.append(ab_bcr)\n",
    "    print(f\"   Ada : {ab_bcr}\")"
   ]
  },
  {
   "cell_type": "code",
   "execution_count": 42,
   "metadata": {},
   "outputs": [
    {
     "name": "stdout",
     "output_type": "stream",
     "text": [
      "RF accuracy   : nan\t std=nan\n",
      "SVC accuracy  : nan\t std=nan\n",
      "Ada accuracy  : 0.6949\t std=0.0365\n"
     ]
    },
    {
     "name": "stderr",
     "output_type": "stream",
     "text": [
      "/Library/Frameworks/Python.framework/Versions/3.8/lib/python3.8/site-packages/numpy/core/fromnumeric.py:3334: RuntimeWarning: Mean of empty slice.\n",
      "  return _methods._mean(a, axis=axis, dtype=dtype,\n",
      "/Library/Frameworks/Python.framework/Versions/3.8/lib/python3.8/site-packages/numpy/core/_methods.py:161: RuntimeWarning: invalid value encountered in double_scalars\n",
      "  ret = ret.dtype.type(ret / rcount)\n",
      "/Library/Frameworks/Python.framework/Versions/3.8/lib/python3.8/site-packages/numpy/core/_methods.py:216: RuntimeWarning: Degrees of freedom <= 0 for slice\n",
      "  ret = _var(a, axis=axis, dtype=dtype, out=out, ddof=ddof,\n",
      "/Library/Frameworks/Python.framework/Versions/3.8/lib/python3.8/site-packages/numpy/core/_methods.py:185: RuntimeWarning: invalid value encountered in true_divide\n",
      "  arrmean = um.true_divide(\n",
      "/Library/Frameworks/Python.framework/Versions/3.8/lib/python3.8/site-packages/numpy/core/_methods.py:209: RuntimeWarning: invalid value encountered in double_scalars\n",
      "  ret = ret.dtype.type(ret / rcount)\n"
     ]
    }
   ],
   "source": [
    "# mlp_mean = np.mean(mlp_accuracies)\n",
    "# mlp_std = np.std(mlp_accuracies)\n",
    "rf_mean = np.mean(rf_accuracies)\n",
    "rf_std = np.std(rf_accuracies)\n",
    "svc_mean = np.mean(svc_accuracies)\n",
    "svc_std = np.std(svc_accuracies)\n",
    "ab_mean = np.mean(ab_accuracies)\n",
    "ab_std = np.std(ab_accuracies)\n",
    "\n",
    "# print(f\"MLP accuracy  : {np.round(mlp_mean,4)}\\t std={np.round(mlp_std, 4)}\")\n",
    "print(f\"RF accuracy   : {np.round(rf_mean,4)}\\t std={np.round(rf_std, 4)}\")\n",
    "print(f\"SVC accuracy  : {np.round(svc_mean,4)}\\t std={np.round(svc_std, 4)}\")\n",
    "print(f\"Ada accuracy  : {np.round(ab_mean,4)}\\t std={np.round(ab_std, 4)}\")"
   ]
  },
  {
   "cell_type": "markdown",
   "metadata": {},
   "source": [
    "## Final prediction\n",
    "\n",
    "Select by hand a classifier to train based on results just above.\n",
    "\n",
    "Train on all training set in order to have the best performing classifier possible."
   ]
  },
  {
   "cell_type": "code",
   "execution_count": 51,
   "metadata": {},
   "outputs": [
    {
     "data": {
      "text/plain": [
       "AdaBoostClassifier(algorithm='SAMME', base_estimator=None, learning_rate=1.0,\n",
       "                   n_estimators=200, random_state=2262)"
      ]
     },
     "execution_count": 51,
     "metadata": {},
     "output_type": "execute_result"
    }
   ],
   "source": [
    "final_clf = AdaBoost_classifier(ab_n_estimators=200)\n",
    "\n",
    "final_clf.fit(train_features, train_labels)"
   ]
  },
  {
   "cell_type": "code",
   "execution_count": 52,
   "metadata": {},
   "outputs": [],
   "source": [
    "pred_acc = ab_mean\n",
    "pred_std = ab_std"
   ]
  },
  {
   "cell_type": "code",
   "execution_count": 53,
   "metadata": {},
   "outputs": [],
   "source": [
    "# Predict labels of testing data\n",
    "predictions = final_clf.predict(test_features).astype(int)"
   ]
  },
  {
   "cell_type": "code",
   "execution_count": 54,
   "metadata": {},
   "outputs": [
    {
     "data": {
      "text/plain": [
       "-1    469\n",
       " 1     31\n",
       "Name: Prediction, dtype: int64"
      ]
     },
     "execution_count": 54,
     "metadata": {},
     "output_type": "execute_result"
    }
   ],
   "source": [
    "test_labels_prediction_df = pd.DataFrame({\"Prediction\": predictions}, index = test_df.index)\n",
    "test_labels_prediction_df.Prediction.value_counts()"
   ]
  },
  {
   "cell_type": "code",
   "execution_count": 55,
   "metadata": {},
   "outputs": [
    {
     "data": {
      "text/html": [
       "<div>\n",
       "<style scoped>\n",
       "    .dataframe tbody tr th:only-of-type {\n",
       "        vertical-align: middle;\n",
       "    }\n",
       "\n",
       "    .dataframe tbody tr th {\n",
       "        vertical-align: top;\n",
       "    }\n",
       "\n",
       "    .dataframe thead th {\n",
       "        text-align: right;\n",
       "    }\n",
       "</style>\n",
       "<table border=\"1\" class=\"dataframe\">\n",
       "  <thead>\n",
       "    <tr style=\"text-align: right;\">\n",
       "      <th></th>\n",
       "      <th>Prediction</th>\n",
       "    </tr>\n",
       "  </thead>\n",
       "  <tbody>\n",
       "    <tr>\n",
       "      <th>C-1001</th>\n",
       "      <td>1</td>\n",
       "    </tr>\n",
       "    <tr>\n",
       "      <th>C-1002</th>\n",
       "      <td>-1</td>\n",
       "    </tr>\n",
       "    <tr>\n",
       "      <th>C-1003</th>\n",
       "      <td>-1</td>\n",
       "    </tr>\n",
       "    <tr>\n",
       "      <th>C-1004</th>\n",
       "      <td>-1</td>\n",
       "    </tr>\n",
       "    <tr>\n",
       "      <th>C-1005</th>\n",
       "      <td>-1</td>\n",
       "    </tr>\n",
       "    <tr>\n",
       "      <th>...</th>\n",
       "      <td>...</td>\n",
       "    </tr>\n",
       "    <tr>\n",
       "      <th>C-1496</th>\n",
       "      <td>-1</td>\n",
       "    </tr>\n",
       "    <tr>\n",
       "      <th>C-1497</th>\n",
       "      <td>-1</td>\n",
       "    </tr>\n",
       "    <tr>\n",
       "      <th>C-1498</th>\n",
       "      <td>-1</td>\n",
       "    </tr>\n",
       "    <tr>\n",
       "      <th>C-1499</th>\n",
       "      <td>-1</td>\n",
       "    </tr>\n",
       "    <tr>\n",
       "      <th>C-1500</th>\n",
       "      <td>-1</td>\n",
       "    </tr>\n",
       "  </tbody>\n",
       "</table>\n",
       "<p>500 rows × 1 columns</p>\n",
       "</div>"
      ],
      "text/plain": [
       "        Prediction\n",
       "C-1001           1\n",
       "C-1002          -1\n",
       "C-1003          -1\n",
       "C-1004          -1\n",
       "C-1005          -1\n",
       "...            ...\n",
       "C-1496          -1\n",
       "C-1497          -1\n",
       "C-1498          -1\n",
       "C-1499          -1\n",
       "C-1500          -1\n",
       "\n",
       "[500 rows x 1 columns]"
      ]
     },
     "execution_count": 55,
     "metadata": {},
     "output_type": "execute_result"
    }
   ],
   "source": [
    "test_labels_prediction_df"
   ]
  },
  {
   "cell_type": "code",
   "execution_count": 56,
   "metadata": {},
   "outputs": [
    {
     "name": "stdout",
     "output_type": "stream",
     "text": [
      "Performance prediction    : 0.6949152542372882\n",
      "Actual performance        : 0.7502427082014267\n",
      "                    delta : 0.05532745396413852\n"
     ]
    }
   ],
   "source": [
    "actual_acc = metrics.balanced_accuracy_score(y_pred=test_labels_prediction_df, y_true=test_labels_df)\n",
    "\n",
    "print(f\"Performance prediction    : {pred_acc}\")\n",
    "print(f\"Actual performance        : {actual_acc}\")\n",
    "print(f\"                    delta : {actual_acc - pred_acc}\")"
   ]
  },
  {
   "cell_type": "markdown",
   "metadata": {},
   "source": [
    "# Output CSV"
   ]
  },
  {
   "cell_type": "code",
   "execution_count": 57,
   "metadata": {},
   "outputs": [],
   "source": [
    "# output_fn = \"Test_labels_prediction_\" + str(final_clf.__class__.__name__) + \"_\" + str(np.round(pred_acc, 4)) + \"_\" + str(np.round(pred_std, 4)) + \".csv\"\n",
    "\n",
    "# test_labels_prediction_df.to_csv(output_fn, index=True)"
   ]
  },
  {
   "cell_type": "markdown",
   "metadata": {},
   "source": [
    "### NOTES - Cross Validation Template\n",
    "\n",
    "#### Training model\n",
    "```classifier.fit(train_features, train_labels```\n",
    "\n",
    "#### Predict labels of testing data\n",
    "```predicted_labels = classifier.predict(test_features```\n",
    "\n",
    "```accuracy = metrics.accuracy_score(test_labels, predicted)  # computing accuracy```\n",
    "\n",
    "#### Compute the mean accuracy on the test data and labels\n",
    "```accuracy = classifier.score(test_features, predicted_labels```\n",
    "\n",
    "\n",
    "Nested K-Cross Validation loops to avoid optimistic evaluation of hyper-parameters\n",
    "\n",
    "```\n",
    "input : D dataset\n",
    "input : K_ext\n",
    "input : K_int\n",
    "input : HP hyper-parameters\n",
    "input = MLP multi-layer perceptron algorythm that trains using backpropagation\n",
    "\n",
    "partition D into K_ext disjoint sets T_i\n",
    "for k in 1:K_ext :\n",
    "    S_k = D - T_k\n",
    "    partition S_k into K_int disjoint sets TT_i\n",
    "    for_each hp in HP :\n",
    "        for k' in 1:K_int :\n",
    "            SS_k' = S_k - TT_k'\n",
    "            M = MLP(SS_k', hp)\n",
    "            compute error rates of M on TT_k'\n",
    "        store average (over various TT_k') error rates of MLP with hp\n",
    "    M* = MLP(S_k, hp*)\n",
    "    compute error rates of M* on T_k\n",
    "return average (over various T_k) error rate of M*\n",
    "```"
   ]
  }
 ],
 "metadata": {
  "kernelspec": {
   "display_name": "Python 3",
   "language": "python",
   "name": "python3"
  },
  "language_info": {
   "codemirror_mode": {
    "name": "ipython",
    "version": 3
   },
   "file_extension": ".py",
   "mimetype": "text/x-python",
   "name": "python",
   "nbconvert_exporter": "python",
   "pygments_lexer": "ipython3",
   "version": "3.8.3rc1"
  }
 },
 "nbformat": 4,
 "nbformat_minor": 4
}
